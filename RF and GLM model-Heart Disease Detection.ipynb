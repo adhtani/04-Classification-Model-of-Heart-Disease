{
 "cells": [
  {
   "cell_type": "markdown",
   "metadata": {},
   "source": [
    "# Predict Presence of Heart Disease using Random Forest and Logistic Regression"
   ]
  },
  {
   "cell_type": "code",
   "execution_count": 239,
   "metadata": {},
   "outputs": [
    {
     "data": {
      "text/html": [
       "<table>\n",
       "<thead><tr><th scope=col>age</th><th scope=col>sex</th><th scope=col>cp</th><th scope=col>trestbps</th><th scope=col>chol</th><th scope=col>fbs</th><th scope=col>restecg</th><th scope=col>thalach</th><th scope=col>exang</th><th scope=col>oldpeak</th><th scope=col>slope</th><th scope=col>ca</th><th scope=col>thal</th><th scope=col>class</th></tr></thead>\n",
       "<tbody>\n",
       "\t<tr><td>63 </td><td>1  </td><td>1  </td><td>145</td><td>233</td><td>1  </td><td>2  </td><td>150</td><td>0  </td><td>2.3</td><td>3  </td><td>0  </td><td>6  </td><td>0  </td></tr>\n",
       "\t<tr><td>67 </td><td>1  </td><td>4  </td><td>160</td><td>286</td><td>0  </td><td>2  </td><td>108</td><td>1  </td><td>1.5</td><td>2  </td><td>3  </td><td>3  </td><td>2  </td></tr>\n",
       "\t<tr><td>67 </td><td>1  </td><td>4  </td><td>120</td><td>229</td><td>0  </td><td>2  </td><td>129</td><td>1  </td><td>2.6</td><td>2  </td><td>2  </td><td>7  </td><td>1  </td></tr>\n",
       "\t<tr><td>37 </td><td>1  </td><td>3  </td><td>130</td><td>250</td><td>0  </td><td>0  </td><td>187</td><td>0  </td><td>3.5</td><td>3  </td><td>0  </td><td>3  </td><td>0  </td></tr>\n",
       "\t<tr><td>41 </td><td>0  </td><td>2  </td><td>130</td><td>204</td><td>0  </td><td>2  </td><td>172</td><td>0  </td><td>1.4</td><td>1  </td><td>0  </td><td>3  </td><td>0  </td></tr>\n",
       "</tbody>\n",
       "</table>\n"
      ],
      "text/latex": [
       "\\begin{tabular}{r|llllllllllllll}\n",
       " age & sex & cp & trestbps & chol & fbs & restecg & thalach & exang & oldpeak & slope & ca & thal & class\\\\\n",
       "\\hline\n",
       "\t 63  & 1   & 1   & 145 & 233 & 1   & 2   & 150 & 0   & 2.3 & 3   & 0   & 6   & 0  \\\\\n",
       "\t 67  & 1   & 4   & 160 & 286 & 0   & 2   & 108 & 1   & 1.5 & 2   & 3   & 3   & 2  \\\\\n",
       "\t 67  & 1   & 4   & 120 & 229 & 0   & 2   & 129 & 1   & 2.6 & 2   & 2   & 7   & 1  \\\\\n",
       "\t 37  & 1   & 3   & 130 & 250 & 0   & 0   & 187 & 0   & 3.5 & 3   & 0   & 3   & 0  \\\\\n",
       "\t 41  & 0   & 2   & 130 & 204 & 0   & 2   & 172 & 0   & 1.4 & 1   & 0   & 3   & 0  \\\\\n",
       "\\end{tabular}\n"
      ],
      "text/markdown": [
       "\n",
       "| age | sex | cp | trestbps | chol | fbs | restecg | thalach | exang | oldpeak | slope | ca | thal | class |\n",
       "|---|---|---|---|---|---|---|---|---|---|---|---|---|---|\n",
       "| 63  | 1   | 1   | 145 | 233 | 1   | 2   | 150 | 0   | 2.3 | 3   | 0   | 6   | 0   |\n",
       "| 67  | 1   | 4   | 160 | 286 | 0   | 2   | 108 | 1   | 1.5 | 2   | 3   | 3   | 2   |\n",
       "| 67  | 1   | 4   | 120 | 229 | 0   | 2   | 129 | 1   | 2.6 | 2   | 2   | 7   | 1   |\n",
       "| 37  | 1   | 3   | 130 | 250 | 0   | 0   | 187 | 0   | 3.5 | 3   | 0   | 3   | 0   |\n",
       "| 41  | 0   | 2   | 130 | 204 | 0   | 2   | 172 | 0   | 1.4 | 1   | 0   | 3   | 0   |\n",
       "\n"
      ],
      "text/plain": [
       "  age sex cp trestbps chol fbs restecg thalach exang oldpeak slope ca thal\n",
       "1 63  1   1  145      233  1   2       150     0     2.3     3     0  6   \n",
       "2 67  1   4  160      286  0   2       108     1     1.5     2     3  3   \n",
       "3 67  1   4  120      229  0   2       129     1     2.6     2     2  7   \n",
       "4 37  1   3  130      250  0   0       187     0     3.5     3     0  3   \n",
       "5 41  0   2  130      204  0   2       172     0     1.4     1     0  3   \n",
       "  class\n",
       "1 0    \n",
       "2 2    \n",
       "3 1    \n",
       "4 0    \n",
       "5 0    "
      ]
     },
     "metadata": {},
     "output_type": "display_data"
    }
   ],
   "source": [
    "hd_data <- read.csv(\"datasets/Cleveland_hd.csv\")\n",
    "\n",
    "head(hd_data, 5)"
   ]
  },
  {
   "cell_type": "code",
   "execution_count": 240,
   "metadata": {},
   "outputs": [
    {
     "name": "stdout",
     "output_type": "stream",
     "text": [
      "'data.frame':\t303 obs. of  14 variables:\n",
      " $ age     : int  63 67 67 37 41 56 62 57 63 53 ...\n",
      " $ sex     : int  1 1 1 1 0 1 0 0 1 1 ...\n",
      " $ cp      : int  1 4 4 3 2 2 4 4 4 4 ...\n",
      " $ trestbps: int  145 160 120 130 130 120 140 120 130 140 ...\n",
      " $ chol    : int  233 286 229 250 204 236 268 354 254 203 ...\n",
      " $ fbs     : int  1 0 0 0 0 0 0 0 0 1 ...\n",
      " $ restecg : int  2 2 2 0 2 0 2 0 2 2 ...\n",
      " $ thalach : int  150 108 129 187 172 178 160 163 147 155 ...\n",
      " $ exang   : int  0 1 1 0 0 0 0 1 0 1 ...\n",
      " $ oldpeak : num  2.3 1.5 2.6 3.5 1.4 0.8 3.6 0.6 1.4 3.1 ...\n",
      " $ slope   : int  3 2 2 3 1 1 3 1 2 3 ...\n",
      " $ ca      : int  0 3 2 0 0 0 2 0 1 0 ...\n",
      " $ thal    : int  6 3 7 3 3 3 3 3 7 7 ...\n",
      " $ class   : int  0 2 1 0 0 0 3 0 2 1 ...\n"
     ]
    }
   ],
   "source": [
    "str(hd_data)"
   ]
  },
  {
   "cell_type": "code",
   "execution_count": 241,
   "metadata": {},
   "outputs": [],
   "source": [
    "hd_data$class <- ifelse(hd_data$class >=1, 1, 0)"
   ]
  },
  {
   "cell_type": "code",
   "execution_count": 242,
   "metadata": {},
   "outputs": [],
   "source": [
    "library(corrplot)\n",
    "library(tidyverse)\n",
    "library(ggcorrplot)\n",
    "library(ggplot2)\n",
    "library(plyr)\n",
    "library(caret)"
   ]
  },
  {
   "cell_type": "code",
   "execution_count": 243,
   "metadata": {},
   "outputs": [
    {
     "data": {
      "text/plain": [
       "      age             sex               cp           trestbps    \n",
       " Min.   :29.00   Min.   :0.0000   Min.   :1.000   Min.   : 94.0  \n",
       " 1st Qu.:48.00   1st Qu.:0.0000   1st Qu.:3.000   1st Qu.:120.0  \n",
       " Median :56.00   Median :1.0000   Median :3.000   Median :130.0  \n",
       " Mean   :54.44   Mean   :0.6799   Mean   :3.158   Mean   :131.7  \n",
       " 3rd Qu.:61.00   3rd Qu.:1.0000   3rd Qu.:4.000   3rd Qu.:140.0  \n",
       " Max.   :77.00   Max.   :1.0000   Max.   :4.000   Max.   :200.0  \n",
       "                                                                 \n",
       "      chol            fbs            restecg          thalach     \n",
       " Min.   :126.0   Min.   :0.0000   Min.   :0.0000   Min.   : 71.0  \n",
       " 1st Qu.:211.0   1st Qu.:0.0000   1st Qu.:0.0000   1st Qu.:133.5  \n",
       " Median :241.0   Median :0.0000   Median :1.0000   Median :153.0  \n",
       " Mean   :246.7   Mean   :0.1485   Mean   :0.9901   Mean   :149.6  \n",
       " 3rd Qu.:275.0   3rd Qu.:0.0000   3rd Qu.:2.0000   3rd Qu.:166.0  \n",
       " Max.   :564.0   Max.   :1.0000   Max.   :2.0000   Max.   :202.0  \n",
       "                                                                  \n",
       "     exang           oldpeak         slope             ca        \n",
       " Min.   :0.0000   Min.   :0.00   Min.   :1.000   Min.   :0.0000  \n",
       " 1st Qu.:0.0000   1st Qu.:0.00   1st Qu.:1.000   1st Qu.:0.0000  \n",
       " Median :0.0000   Median :0.80   Median :2.000   Median :0.0000  \n",
       " Mean   :0.3267   Mean   :1.04   Mean   :1.601   Mean   :0.6722  \n",
       " 3rd Qu.:1.0000   3rd Qu.:1.60   3rd Qu.:2.000   3rd Qu.:1.0000  \n",
       " Max.   :1.0000   Max.   :6.20   Max.   :3.000   Max.   :3.0000  \n",
       "                                                 NA's   :4       \n",
       "      thal           class       \n",
       " Min.   :3.000   Min.   :0.0000  \n",
       " 1st Qu.:3.000   1st Qu.:0.0000  \n",
       " Median :3.000   Median :0.0000  \n",
       " Mean   :4.734   Mean   :0.4587  \n",
       " 3rd Qu.:7.000   3rd Qu.:1.0000  \n",
       " Max.   :7.000   Max.   :1.0000  \n",
       " NA's   :2                       "
      ]
     },
     "metadata": {},
     "output_type": "display_data"
    }
   ],
   "source": [
    "summary(hd_data)"
   ]
  },
  {
   "cell_type": "markdown",
   "metadata": {},
   "source": [
    "## Data Cleaning and Preparation"
   ]
  },
  {
   "cell_type": "code",
   "execution_count": 244,
   "metadata": {},
   "outputs": [
    {
     "data": {
      "text/html": [
       "<dl class=dl-horizontal>\n",
       "\t<dt>age</dt>\n",
       "\t\t<dd>0</dd>\n",
       "\t<dt>sex</dt>\n",
       "\t\t<dd>0</dd>\n",
       "\t<dt>cp</dt>\n",
       "\t\t<dd>0</dd>\n",
       "\t<dt>trestbps</dt>\n",
       "\t\t<dd>0</dd>\n",
       "\t<dt>chol</dt>\n",
       "\t\t<dd>0</dd>\n",
       "\t<dt>fbs</dt>\n",
       "\t\t<dd>0</dd>\n",
       "\t<dt>restecg</dt>\n",
       "\t\t<dd>0</dd>\n",
       "\t<dt>thalach</dt>\n",
       "\t\t<dd>0</dd>\n",
       "\t<dt>exang</dt>\n",
       "\t\t<dd>0</dd>\n",
       "\t<dt>oldpeak</dt>\n",
       "\t\t<dd>0</dd>\n",
       "\t<dt>slope</dt>\n",
       "\t\t<dd>0</dd>\n",
       "\t<dt>ca</dt>\n",
       "\t\t<dd>4</dd>\n",
       "\t<dt>thal</dt>\n",
       "\t\t<dd>2</dd>\n",
       "\t<dt>class</dt>\n",
       "\t\t<dd>0</dd>\n",
       "</dl>\n"
      ],
      "text/latex": [
       "\\begin{description*}\n",
       "\\item[age] 0\n",
       "\\item[sex] 0\n",
       "\\item[cp] 0\n",
       "\\item[trestbps] 0\n",
       "\\item[chol] 0\n",
       "\\item[fbs] 0\n",
       "\\item[restecg] 0\n",
       "\\item[thalach] 0\n",
       "\\item[exang] 0\n",
       "\\item[oldpeak] 0\n",
       "\\item[slope] 0\n",
       "\\item[ca] 4\n",
       "\\item[thal] 2\n",
       "\\item[class] 0\n",
       "\\end{description*}\n"
      ],
      "text/markdown": [
       "age\n",
       ":   0sex\n",
       ":   0cp\n",
       ":   0trestbps\n",
       ":   0chol\n",
       ":   0fbs\n",
       ":   0restecg\n",
       ":   0thalach\n",
       ":   0exang\n",
       ":   0oldpeak\n",
       ":   0slope\n",
       ":   0ca\n",
       ":   4thal\n",
       ":   2class\n",
       ":   0\n",
       "\n"
      ],
      "text/plain": [
       "     age      sex       cp trestbps     chol      fbs  restecg  thalach \n",
       "       0        0        0        0        0        0        0        0 \n",
       "   exang  oldpeak    slope       ca     thal    class \n",
       "       0        0        0        4        2        0 "
      ]
     },
     "metadata": {},
     "output_type": "display_data"
    }
   ],
   "source": [
    "colSums(is.na(hd_data))"
   ]
  },
  {
   "cell_type": "code",
   "execution_count": 245,
   "metadata": {},
   "outputs": [
    {
     "data": {
      "text/html": [
       "<dl class=dl-horizontal>\n",
       "\t<dt>age</dt>\n",
       "\t\t<dd>0</dd>\n",
       "\t<dt>sex</dt>\n",
       "\t\t<dd>0</dd>\n",
       "\t<dt>cp</dt>\n",
       "\t\t<dd>0</dd>\n",
       "\t<dt>trestbps</dt>\n",
       "\t\t<dd>0</dd>\n",
       "\t<dt>chol</dt>\n",
       "\t\t<dd>0</dd>\n",
       "\t<dt>fbs</dt>\n",
       "\t\t<dd>0</dd>\n",
       "\t<dt>restecg</dt>\n",
       "\t\t<dd>0</dd>\n",
       "\t<dt>thalach</dt>\n",
       "\t\t<dd>0</dd>\n",
       "\t<dt>exang</dt>\n",
       "\t\t<dd>0</dd>\n",
       "\t<dt>oldpeak</dt>\n",
       "\t\t<dd>0</dd>\n",
       "\t<dt>slope</dt>\n",
       "\t\t<dd>0</dd>\n",
       "\t<dt>ca</dt>\n",
       "\t\t<dd>0</dd>\n",
       "\t<dt>thal</dt>\n",
       "\t\t<dd>0</dd>\n",
       "\t<dt>class</dt>\n",
       "\t\t<dd>0</dd>\n",
       "</dl>\n"
      ],
      "text/latex": [
       "\\begin{description*}\n",
       "\\item[age] 0\n",
       "\\item[sex] 0\n",
       "\\item[cp] 0\n",
       "\\item[trestbps] 0\n",
       "\\item[chol] 0\n",
       "\\item[fbs] 0\n",
       "\\item[restecg] 0\n",
       "\\item[thalach] 0\n",
       "\\item[exang] 0\n",
       "\\item[oldpeak] 0\n",
       "\\item[slope] 0\n",
       "\\item[ca] 0\n",
       "\\item[thal] 0\n",
       "\\item[class] 0\n",
       "\\end{description*}\n"
      ],
      "text/markdown": [
       "age\n",
       ":   0sex\n",
       ":   0cp\n",
       ":   0trestbps\n",
       ":   0chol\n",
       ":   0fbs\n",
       ":   0restecg\n",
       ":   0thalach\n",
       ":   0exang\n",
       ":   0oldpeak\n",
       ":   0slope\n",
       ":   0ca\n",
       ":   0thal\n",
       ":   0class\n",
       ":   0\n",
       "\n"
      ],
      "text/plain": [
       "     age      sex       cp trestbps     chol      fbs  restecg  thalach \n",
       "       0        0        0        0        0        0        0        0 \n",
       "   exang  oldpeak    slope       ca     thal    class \n",
       "       0        0        0        0        0        0 "
      ]
     },
     "metadata": {},
     "output_type": "display_data"
    }
   ],
   "source": [
    "data <- na.omit(hd_data) \n",
    "colSums(is.na(data))"
   ]
  },
  {
   "cell_type": "code",
   "execution_count": 246,
   "metadata": {},
   "outputs": [
    {
     "data": {
      "image/png": "[encoded data removed]",
      "text/plain": [
       "Plot with title \"\""
      ]
     },
     "metadata": {},
     "output_type": "display_data"
    }
   ],
   "source": [
    "options(repr.plot.width =10, repr.plot.height =6)\n",
    "corr <- cor(data)\n",
    "corrplot(corr)"
   ]
  },
  {
   "cell_type": "code",
   "execution_count": 247,
   "metadata": {},
   "outputs": [],
   "source": [
    "# Coverting the categorical data to factor\n",
    "data$sex <- as.factor(data$sex)\n",
    "data$class <- as.factor(data$class)\n",
    "data$cp <- as.factor(data$cp)\n",
    "data$fbs <- as.factor(data$fbs)\n",
    "data$exang <- as.factor(data$exang)\n",
    "data$slope <- as.factor(data$slope)\n",
    "data$thal <- as.factor(data$thal)"
   ]
  },
  {
   "cell_type": "code",
   "execution_count": 248,
   "metadata": {},
   "outputs": [],
   "source": [
    "data2 <- data"
   ]
  },
  {
   "cell_type": "code",
   "execution_count": 249,
   "metadata": {},
   "outputs": [],
   "source": [
    "# Give a better name to the factor values for the graphs\n",
    "data$sex <- ifelse(data$sex ==0, 'Female', 'Male')\n",
    "levels(data$cp) <- c(\"Typical angina\",\"Atypical angina\", \"No angina\", \"Asymptomatic\")\n",
    "data$exang <- ifelse(data$exang ==0, 'No', 'Yes')\n",
    "levels(data$slope) <- c(\"Upsloping\", \"Flat\", \"Downsloping\")\n",
    "levels(data$thal) <- c(\"Normal\",\"Fixed defect\", \"Reversible defect\")\n",
    "data$class <- ifelse(data$class ==0, 'No', 'Yes')"
   ]
  },
  {
   "cell_type": "code",
   "execution_count": 250,
   "metadata": {},
   "outputs": [],
   "source": [
    "# deleting variables that has low correlation\n",
    "data = subset(data, select = c(-fbs,-chol,-restecg))"
   ]
  },
  {
   "cell_type": "markdown",
   "metadata": {},
   "source": [
    "## Exploratory Data Analysis"
   ]
  },
  {
   "cell_type": "code",
   "execution_count": 251,
   "metadata": {},
   "outputs": [
    {
     "data": {
      "image/png": "[encoded data removed]",
      "text/plain": [
       "plot without title"
      ]
     },
     "metadata": {},
     "output_type": "display_data"
    }
   ],
   "source": [
    "options(repr.plot.width =6, repr.plot.height =4)\n",
    "\n",
    "ggplot(data, aes(x=data$class, fill=data$class)) + \n",
    "  geom_bar() +\n",
    "  xlab(\"Heart Disease\") +\n",
    "  ylab(\"Count\") +\n",
    "  ggtitle(\"Total Number of Presence or Non-Presence Class\") +\n",
    "  scale_fill_discrete(name = \"Heart Disease\")"
   ]
  },
  {
   "cell_type": "code",
   "execution_count": 252,
   "metadata": {},
   "outputs": [
    {
     "data": {
      "image/png": "[encoded data removed]",
      "text/plain": [
       "plot without title"
      ]
     },
     "metadata": {},
     "output_type": "display_data"
    }
   ],
   "source": [
    "ggplot(data, aes(age, fill=class)) + \n",
    "  geom_density(alpha=0.5) +\n",
    "  labs(fill=\"Disease\", x=\"age\", y=\"Number of patients\")+\n",
    "ggtitle(\"Age Distribution\")"
   ]
  },
  {
   "cell_type": "code",
   "execution_count": 253,
   "metadata": {},
   "outputs": [
    {
     "data": {
      "image/png": "[encoded data removed]",
      "text/plain": [
       "plot without title"
      ]
     },
     "metadata": {},
     "output_type": "display_data"
    }
   ],
   "source": [
    "ggplot(data, aes(sex, fill=class)) + \n",
    "  geom_bar() +\n",
    "  labs(fill=\"Disease\", x=\"Sex\", y=\"Number of patients\") +\n",
    "ggtitle(\"Disease by Sex\")"
   ]
  },
  {
   "cell_type": "code",
   "execution_count": 254,
   "metadata": {},
   "outputs": [
    {
     "data": {
      "image/png": "[encoded data removed]",
      "text/plain": [
       "plot without title"
      ]
     },
     "metadata": {},
     "output_type": "display_data"
    }
   ],
   "source": [
    "ggplot(data, aes(cp, fill=class)) +\n",
    "  geom_bar() +\n",
    "  labs(fill=\"Disease\", x=\"Chest pain type\", y=\"Number of patients\") +\n",
    "ggtitle('Disease by Chest Pain Type')\n"
   ]
  },
  {
   "cell_type": "code",
   "execution_count": 255,
   "metadata": {},
   "outputs": [
    {
     "data": {
      "image/png": "[encoded data removed]",
      "text/plain": [
       "plot without title"
      ]
     },
     "metadata": {},
     "output_type": "display_data"
    }
   ],
   "source": [
    "ggplot(data, aes(trestbps, fill=class)) +\n",
    "  geom_density(alpha=0.5) +\n",
    "  labs(fill=\"Disease\", x=\"Blood pressure (mm Hg)\", y=\"Number of patients\")+\n",
    "ggtitle('Disease by Resting Blood Pressure')"
   ]
  },
  {
   "cell_type": "code",
   "execution_count": 256,
   "metadata": {},
   "outputs": [
    {
     "data": {
      "image/png": "[encoded data removed]",
      "text/plain": [
       "plot without title"
      ]
     },
     "metadata": {},
     "output_type": "display_data"
    }
   ],
   "source": [
    "ggplot(data, aes(thalach, fill=class)) +\n",
    "  geom_density(alpha=0.5) +\n",
    "  labs(fill=\"Disease\", x=\"Maximum heart rate during exercise\", y=\"Number of patients\")"
   ]
  },
  {
   "cell_type": "code",
   "execution_count": 257,
   "metadata": {},
   "outputs": [
    {
     "data": {
      "image/png": "[encoded data removed]",
      "text/plain": [
       "plot without title"
      ]
     },
     "metadata": {},
     "output_type": "display_data"
    }
   ],
   "source": [
    "ggplot(data, aes(exang, fill=class)) +\n",
    "  geom_bar() +\n",
    "  labs(fill=\"Disease\", x=\"Presence of angina during exercise\", y=\"Number of patients\")"
   ]
  },
  {
   "cell_type": "code",
   "execution_count": 258,
   "metadata": {},
   "outputs": [
    {
     "data": {
      "image/png": "[encoded data removed]",
      "text/plain": [
       "plot without title"
      ]
     },
     "metadata": {},
     "output_type": "display_data"
    }
   ],
   "source": [
    "ggplot(data, aes(oldpeak, fill=class)) +\n",
    "  geom_density(alpha=0.5) +\n",
    "  labs(fill=\"Disease\", x=\"Depression of the ST segment\", y=\"Number of patients\")"
   ]
  },
  {
   "cell_type": "code",
   "execution_count": 259,
   "metadata": {},
   "outputs": [
    {
     "data": {
      "image/png": "[encoded data removed]",
      "text/plain": [
       "plot without title"
      ]
     },
     "metadata": {},
     "output_type": "display_data"
    }
   ],
   "source": [
    "ggplot(data, aes(slope, fill=class)) +\n",
    "  geom_bar() +\n",
    "  labs(fill=\"Disease\", x=\"Slope of the ST segment\", y=\"Number of patients\")"
   ]
  },
  {
   "cell_type": "code",
   "execution_count": 260,
   "metadata": {},
   "outputs": [
    {
     "data": {
      "image/png": "[encoded data removed]",
      "text/plain": [
       "plot without title"
      ]
     },
     "metadata": {},
     "output_type": "display_data"
    }
   ],
   "source": [
    "ggplot(data, aes(thal, fill=class)) +\n",
    "  geom_bar() +\n",
    "  labs(fill=\"Disease\", x=\"Results of the blood flow\", y=\"Number of patients\")"
   ]
  },
  {
   "cell_type": "code",
   "execution_count": 261,
   "metadata": {},
   "outputs": [
    {
     "data": {
      "image/png": "[encoded data removed]",
      "text/plain": [
       "plot without title"
      ]
     },
     "metadata": {},
     "output_type": "display_data"
    }
   ],
   "source": [
    "ggplot(data, aes(ca, fill=class)) +\n",
    "  geom_bar() +\n",
    "  labs(fill=\"Disease\", x=\"Number of main blood vessels coloured\", y=\"Number of patients\")"
   ]
  },
  {
   "cell_type": "markdown",
   "metadata": {},
   "source": [
    "## Modeling"
   ]
  },
  {
   "cell_type": "code",
   "execution_count": 262,
   "metadata": {
    "collapsed": true
   },
   "outputs": [],
   "source": [
    "set.seed(8)\n",
    "training_indeces <- createDataPartition(data2$class, p = .7, list = FALSE)\n",
    "data2.train <- data2[ training_indeces,]\n",
    "data2.test  <- data2[-training_indeces,]\n",
    "\n",
    "# 10 fold Cross-validation\n",
    "fitControl <- trainControl(method=\"cv\", number=10)"
   ]
  },
  {
   "cell_type": "code",
   "execution_count": 265,
   "metadata": {},
   "outputs": [
    {
     "data": {
      "text/plain": [
       "Generalized Linear Model \n",
       "\n",
       "208 samples\n",
       " 13 predictor\n",
       "  2 classes: '0', '1' \n",
       "\n",
       "No pre-processing\n",
       "Resampling: Cross-Validated (10 fold) \n",
       "Summary of sample sizes: 187, 187, 188, 186, 188, 187, ... \n",
       "Resampling results:\n",
       "\n",
       "  Accuracy  Kappa    \n",
       "  0.822316  0.6397655\n"
      ]
     },
     "metadata": {},
     "output_type": "display_data"
    }
   ],
   "source": [
    "set.seed(8)\n",
    "model.lr <- train(class ~ ., \n",
    "              data = data2.train,\n",
    "              method = \"glm\",\n",
    "              family=binomial(),\n",
    "              trControl = fitControl)\n",
    "model.lr"
   ]
  },
  {
   "cell_type": "code",
   "execution_count": 266,
   "metadata": {},
   "outputs": [
    {
     "data": {
      "text/plain": [
       "Random Forest \n",
       "\n",
       "208 samples\n",
       " 13 predictor\n",
       "  2 classes: '0', '1' \n",
       "\n",
       "No pre-processing\n",
       "Resampling: Cross-Validated (10 fold) \n",
       "Summary of sample sizes: 187, 187, 188, 186, 188, 187, ... \n",
       "Resampling results across tuning parameters:\n",
       "\n",
       "  mtry  Accuracy   Kappa    \n",
       "   2    0.8130303  0.6198014\n",
       "   9    0.8327706  0.6623766\n",
       "  17    0.8229870  0.6414774\n",
       "\n",
       "Accuracy was used to select the optimal model using the largest value.\n",
       "The final value used for the model was mtry = 9."
      ]
     },
     "metadata": {},
     "output_type": "display_data"
    }
   ],
   "source": [
    "set.seed(8)\n",
    "model.rf <- train(class ~ ., \n",
    "              data = data2.train,\n",
    "              method = \"rf\",\n",
    "              trControl = fitControl)\n",
    "model.rf"
   ]
  },
  {
   "cell_type": "code",
   "execution_count": 268,
   "metadata": {},
   "outputs": [
    {
     "data": {
      "text/plain": [
       "Confusion Matrix and Statistics\n",
       "\n",
       "          Reference\n",
       "Prediction  0  1\n",
       "         0 41  9\n",
       "         1  7 32\n",
       "                                          \n",
       "               Accuracy : 0.8202          \n",
       "                 95% CI : (0.7245, 0.8936)\n",
       "    No Information Rate : 0.5393          \n",
       "    P-Value [Acc > NIR] : 2.567e-08       \n",
       "                                          \n",
       "                  Kappa : 0.6369          \n",
       "                                          \n",
       " Mcnemar's Test P-Value : 0.8026          \n",
       "                                          \n",
       "            Sensitivity : 0.8542          \n",
       "            Specificity : 0.7805          \n",
       "         Pos Pred Value : 0.8200          \n",
       "         Neg Pred Value : 0.8205          \n",
       "             Prevalence : 0.5393          \n",
       "         Detection Rate : 0.4607          \n",
       "   Detection Prevalence : 0.5618          \n",
       "      Balanced Accuracy : 0.8173          \n",
       "                                          \n",
       "       'Positive' Class : 0               \n",
       "                                          "
      ]
     },
     "metadata": {},
     "output_type": "display_data"
    }
   ],
   "source": [
    "preds <- predict(model.lr, data2.test)\n",
    "confusionMatrix(preds, data2.test$class)"
   ]
  },
  {
   "cell_type": "code",
   "execution_count": 269,
   "metadata": {},
   "outputs": [
    {
     "data": {
      "text/plain": [
       "Confusion Matrix and Statistics\n",
       "\n",
       "          Reference\n",
       "Prediction  0  1\n",
       "         0 42 11\n",
       "         1  6 30\n",
       "                                          \n",
       "               Accuracy : 0.809           \n",
       "                 95% CI : (0.7119, 0.8846)\n",
       "    No Information Rate : 0.5393          \n",
       "    P-Value [Acc > NIR] : 9.657e-08       \n",
       "                                          \n",
       "                  Kappa : 0.6122          \n",
       "                                          \n",
       " Mcnemar's Test P-Value : 0.332           \n",
       "                                          \n",
       "            Sensitivity : 0.8750          \n",
       "            Specificity : 0.7317          \n",
       "         Pos Pred Value : 0.7925          \n",
       "         Neg Pred Value : 0.8333          \n",
       "             Prevalence : 0.5393          \n",
       "         Detection Rate : 0.4719          \n",
       "   Detection Prevalence : 0.5955          \n",
       "      Balanced Accuracy : 0.8034          \n",
       "                                          \n",
       "       'Positive' Class : 0               \n",
       "                                          "
      ]
     },
     "metadata": {},
     "output_type": "display_data"
    }
   ],
   "source": [
    "preds <- predict(model.rf, data2.test)\n",
    "confusionMatrix(preds, data2.test$class)"
   ]
  },
  {
   "cell_type": "code",
   "execution_count": null,
   "metadata": {},
   "outputs": [],
   "source": []
  }
 ],
 "metadata": {
  "kernelspec": {
   "display_name": "R",
   "language": "R",
   "name": "ir"
  },
  "language_info": {
   "codemirror_mode": "r",
   "file_extension": ".r",
   "mimetype": "text/x-r-source",
   "name": "R",
   "pygments_lexer": "r",
   "version": "3.6.3"
  }
 },
 "nbformat": 4,
 "nbformat_minor": 5
}
