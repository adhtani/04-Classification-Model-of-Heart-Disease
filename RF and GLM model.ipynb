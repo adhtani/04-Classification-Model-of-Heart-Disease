{
 "cells": [
  {
   "cell_type": "markdown",
   "id": "c4d743f0",
   "metadata": {},
   "source": [
    "# Predict Presence of Heart Disease using Random Forest and Logistic Regression"
   ]
  },
  {
   "cell_type": "code",
   "execution_count": 131,
   "id": "6dc7e58e",
   "metadata": {},
   "outputs": [
    {
     "data": {
      "text/html": [
       "<table>\n",
       "<thead><tr><th scope=col>age</th><th scope=col>sex</th><th scope=col>cp</th><th scope=col>trestbps</th><th scope=col>chol</th><th scope=col>fbs</th><th scope=col>restecg</th><th scope=col>thalach</th><th scope=col>exang</th><th scope=col>oldpeak</th><th scope=col>slope</th><th scope=col>ca</th><th scope=col>thal</th><th scope=col>class</th></tr></thead>\n",
       "<tbody>\n",
       "\t<tr><td>63 </td><td>1  </td><td>1  </td><td>145</td><td>233</td><td>1  </td><td>2  </td><td>150</td><td>0  </td><td>2.3</td><td>3  </td><td>0  </td><td>6  </td><td>0  </td></tr>\n",
       "\t<tr><td>67 </td><td>1  </td><td>4  </td><td>160</td><td>286</td><td>0  </td><td>2  </td><td>108</td><td>1  </td><td>1.5</td><td>2  </td><td>3  </td><td>3  </td><td>2  </td></tr>\n",
       "\t<tr><td>67 </td><td>1  </td><td>4  </td><td>120</td><td>229</td><td>0  </td><td>2  </td><td>129</td><td>1  </td><td>2.6</td><td>2  </td><td>2  </td><td>7  </td><td>1  </td></tr>\n",
       "\t<tr><td>37 </td><td>1  </td><td>3  </td><td>130</td><td>250</td><td>0  </td><td>0  </td><td>187</td><td>0  </td><td>3.5</td><td>3  </td><td>0  </td><td>3  </td><td>0  </td></tr>\n",
       "\t<tr><td>41 </td><td>0  </td><td>2  </td><td>130</td><td>204</td><td>0  </td><td>2  </td><td>172</td><td>0  </td><td>1.4</td><td>1  </td><td>0  </td><td>3  </td><td>0  </td></tr>\n",
       "</tbody>\n",
       "</table>\n"
      ],
      "text/latex": [
       "\\begin{tabular}{r|llllllllllllll}\n",
       " age & sex & cp & trestbps & chol & fbs & restecg & thalach & exang & oldpeak & slope & ca & thal & class\\\\\n",
       "\\hline\n",
       "\t 63  & 1   & 1   & 145 & 233 & 1   & 2   & 150 & 0   & 2.3 & 3   & 0   & 6   & 0  \\\\\n",
       "\t 67  & 1   & 4   & 160 & 286 & 0   & 2   & 108 & 1   & 1.5 & 2   & 3   & 3   & 2  \\\\\n",
       "\t 67  & 1   & 4   & 120 & 229 & 0   & 2   & 129 & 1   & 2.6 & 2   & 2   & 7   & 1  \\\\\n",
       "\t 37  & 1   & 3   & 130 & 250 & 0   & 0   & 187 & 0   & 3.5 & 3   & 0   & 3   & 0  \\\\\n",
       "\t 41  & 0   & 2   & 130 & 204 & 0   & 2   & 172 & 0   & 1.4 & 1   & 0   & 3   & 0  \\\\\n",
       "\\end{tabular}\n"
      ],
      "text/markdown": [
       "\n",
       "| age | sex | cp | trestbps | chol | fbs | restecg | thalach | exang | oldpeak | slope | ca | thal | class |\n",
       "|---|---|---|---|---|---|---|---|---|---|---|---|---|---|\n",
       "| 63  | 1   | 1   | 145 | 233 | 1   | 2   | 150 | 0   | 2.3 | 3   | 0   | 6   | 0   |\n",
       "| 67  | 1   | 4   | 160 | 286 | 0   | 2   | 108 | 1   | 1.5 | 2   | 3   | 3   | 2   |\n",
       "| 67  | 1   | 4   | 120 | 229 | 0   | 2   | 129 | 1   | 2.6 | 2   | 2   | 7   | 1   |\n",
       "| 37  | 1   | 3   | 130 | 250 | 0   | 0   | 187 | 0   | 3.5 | 3   | 0   | 3   | 0   |\n",
       "| 41  | 0   | 2   | 130 | 204 | 0   | 2   | 172 | 0   | 1.4 | 1   | 0   | 3   | 0   |\n",
       "\n"
      ],
      "text/plain": [
       "  age sex cp trestbps chol fbs restecg thalach exang oldpeak slope ca thal\n",
       "1 63  1   1  145      233  1   2       150     0     2.3     3     0  6   \n",
       "2 67  1   4  160      286  0   2       108     1     1.5     2     3  3   \n",
       "3 67  1   4  120      229  0   2       129     1     2.6     2     2  7   \n",
       "4 37  1   3  130      250  0   0       187     0     3.5     3     0  3   \n",
       "5 41  0   2  130      204  0   2       172     0     1.4     1     0  3   \n",
       "  class\n",
       "1 0    \n",
       "2 2    \n",
       "3 1    \n",
       "4 0    \n",
       "5 0    "
      ]
     },
     "metadata": {},
     "output_type": "display_data"
    }
   ],
   "source": [
    "hd_data <- read.csv(\"datasets/Cleveland_hd.csv\")\n",
    "\n",
    "head(hd_data, 5)"
   ]
  },
  {
   "cell_type": "code",
   "execution_count": 132,
   "id": "51426fce",
   "metadata": {},
   "outputs": [
    {
     "name": "stdout",
     "output_type": "stream",
     "text": [
      "'data.frame':\t303 obs. of  14 variables:\n",
      " $ age     : int  63 67 67 37 41 56 62 57 63 53 ...\n",
      " $ sex     : int  1 1 1 1 0 1 0 0 1 1 ...\n",
      " $ cp      : int  1 4 4 3 2 2 4 4 4 4 ...\n",
      " $ trestbps: int  145 160 120 130 130 120 140 120 130 140 ...\n",
      " $ chol    : int  233 286 229 250 204 236 268 354 254 203 ...\n",
      " $ fbs     : int  1 0 0 0 0 0 0 0 0 1 ...\n",
      " $ restecg : int  2 2 2 0 2 0 2 0 2 2 ...\n",
      " $ thalach : int  150 108 129 187 172 178 160 163 147 155 ...\n",
      " $ exang   : int  0 1 1 0 0 0 0 1 0 1 ...\n",
      " $ oldpeak : num  2.3 1.5 2.6 3.5 1.4 0.8 3.6 0.6 1.4 3.1 ...\n",
      " $ slope   : int  3 2 2 3 1 1 3 1 2 3 ...\n",
      " $ ca      : int  0 3 2 0 0 0 2 0 1 0 ...\n",
      " $ thal    : int  6 3 7 3 3 3 3 3 7 7 ...\n",
      " $ class   : int  0 2 1 0 0 0 3 0 2 1 ...\n"
     ]
    }
   ],
   "source": [
    "str(hd_data)"
   ]
  },
  {
   "cell_type": "code",
   "execution_count": 133,
   "id": "4bf6115d",
   "metadata": {},
   "outputs": [],
   "source": [
    "hd_data$class <- ifelse(hd_data$class >=1, 1, 0)"
   ]
  },
  {
   "cell_type": "code",
   "execution_count": 134,
   "id": "73a01683",
   "metadata": {},
   "outputs": [],
   "source": [
    "library(corrplot)\n",
    "library(tidyverse)\n",
    "library(ggcorrplot)\n",
    "library(ggplot2)\n",
    "library(plyr)\n",
    "library(caret)"
   ]
  },
  {
   "cell_type": "code",
   "execution_count": 135,
   "id": "0dea7b2b",
   "metadata": {},
   "outputs": [
    {
     "data": {
      "text/plain": [
       "      age             sex               cp           trestbps    \n",
       " Min.   :29.00   Min.   :0.0000   Min.   :1.000   Min.   : 94.0  \n",
       " 1st Qu.:48.00   1st Qu.:0.0000   1st Qu.:3.000   1st Qu.:120.0  \n",
       " Median :56.00   Median :1.0000   Median :3.000   Median :130.0  \n",
       " Mean   :54.44   Mean   :0.6799   Mean   :3.158   Mean   :131.7  \n",
       " 3rd Qu.:61.00   3rd Qu.:1.0000   3rd Qu.:4.000   3rd Qu.:140.0  \n",
       " Max.   :77.00   Max.   :1.0000   Max.   :4.000   Max.   :200.0  \n",
       "                                                                 \n",
       "      chol            fbs            restecg          thalach     \n",
       " Min.   :126.0   Min.   :0.0000   Min.   :0.0000   Min.   : 71.0  \n",
       " 1st Qu.:211.0   1st Qu.:0.0000   1st Qu.:0.0000   1st Qu.:133.5  \n",
       " Median :241.0   Median :0.0000   Median :1.0000   Median :153.0  \n",
       " Mean   :246.7   Mean   :0.1485   Mean   :0.9901   Mean   :149.6  \n",
       " 3rd Qu.:275.0   3rd Qu.:0.0000   3rd Qu.:2.0000   3rd Qu.:166.0  \n",
       " Max.   :564.0   Max.   :1.0000   Max.   :2.0000   Max.   :202.0  \n",
       "                                                                  \n",
       "     exang           oldpeak         slope             ca        \n",
       " Min.   :0.0000   Min.   :0.00   Min.   :1.000   Min.   :0.0000  \n",
       " 1st Qu.:0.0000   1st Qu.:0.00   1st Qu.:1.000   1st Qu.:0.0000  \n",
       " Median :0.0000   Median :0.80   Median :2.000   Median :0.0000  \n",
       " Mean   :0.3267   Mean   :1.04   Mean   :1.601   Mean   :0.6722  \n",
       " 3rd Qu.:1.0000   3rd Qu.:1.60   3rd Qu.:2.000   3rd Qu.:1.0000  \n",
       " Max.   :1.0000   Max.   :6.20   Max.   :3.000   Max.   :3.0000  \n",
       "                                                 NA's   :4       \n",
       "      thal           class       \n",
       " Min.   :3.000   Min.   :0.0000  \n",
       " 1st Qu.:3.000   1st Qu.:0.0000  \n",
       " Median :3.000   Median :0.0000  \n",
       " Mean   :4.734   Mean   :0.4587  \n",
       " 3rd Qu.:7.000   3rd Qu.:1.0000  \n",
       " Max.   :7.000   Max.   :1.0000  \n",
       " NA's   :2                       "
      ]
     },
     "metadata": {},
     "output_type": "display_data"
    }
   ],
   "source": [
    "summary(hd_data)"
   ]
  },
  {
   "cell_type": "markdown",
   "id": "01a1d153",
   "metadata": {},
   "source": [
    "## Data Cleaning and Preparation"
   ]
  },
  {
   "cell_type": "code",
   "execution_count": 136,
   "id": "5404821d",
   "metadata": {},
   "outputs": [
    {
     "data": {
      "text/html": [
       "<dl class=dl-horizontal>\n",
       "\t<dt>age</dt>\n",
       "\t\t<dd>0</dd>\n",
       "\t<dt>sex</dt>\n",
       "\t\t<dd>0</dd>\n",
       "\t<dt>cp</dt>\n",
       "\t\t<dd>0</dd>\n",
       "\t<dt>trestbps</dt>\n",
       "\t\t<dd>0</dd>\n",
       "\t<dt>chol</dt>\n",
       "\t\t<dd>0</dd>\n",
       "\t<dt>fbs</dt>\n",
       "\t\t<dd>0</dd>\n",
       "\t<dt>restecg</dt>\n",
       "\t\t<dd>0</dd>\n",
       "\t<dt>thalach</dt>\n",
       "\t\t<dd>0</dd>\n",
       "\t<dt>exang</dt>\n",
       "\t\t<dd>0</dd>\n",
       "\t<dt>oldpeak</dt>\n",
       "\t\t<dd>0</dd>\n",
       "\t<dt>slope</dt>\n",
       "\t\t<dd>0</dd>\n",
       "\t<dt>ca</dt>\n",
       "\t\t<dd>4</dd>\n",
       "\t<dt>thal</dt>\n",
       "\t\t<dd>2</dd>\n",
       "\t<dt>class</dt>\n",
       "\t\t<dd>0</dd>\n",
       "</dl>\n"
      ],
      "text/latex": [
       "\\begin{description*}\n",
       "\\item[age] 0\n",
       "\\item[sex] 0\n",
       "\\item[cp] 0\n",
       "\\item[trestbps] 0\n",
       "\\item[chol] 0\n",
       "\\item[fbs] 0\n",
       "\\item[restecg] 0\n",
       "\\item[thalach] 0\n",
       "\\item[exang] 0\n",
       "\\item[oldpeak] 0\n",
       "\\item[slope] 0\n",
       "\\item[ca] 4\n",
       "\\item[thal] 2\n",
       "\\item[class] 0\n",
       "\\end{description*}\n"
      ],
      "text/markdown": [
       "age\n",
       ":   0sex\n",
       ":   0cp\n",
       ":   0trestbps\n",
       ":   0chol\n",
       ":   0fbs\n",
       ":   0restecg\n",
       ":   0thalach\n",
       ":   0exang\n",
       ":   0oldpeak\n",
       ":   0slope\n",
       ":   0ca\n",
       ":   4thal\n",
       ":   2class\n",
       ":   0\n",
       "\n"
      ],
      "text/plain": [
       "     age      sex       cp trestbps     chol      fbs  restecg  thalach \n",
       "       0        0        0        0        0        0        0        0 \n",
       "   exang  oldpeak    slope       ca     thal    class \n",
       "       0        0        0        4        2        0 "
      ]
     },
     "metadata": {},
     "output_type": "display_data"
    }
   ],
   "source": [
    "colSums(is.na(hd_data))"
   ]
  },
  {
   "cell_type": "code",
   "execution_count": 137,
   "id": "7ba0e273",
   "metadata": {},
   "outputs": [
    {
     "data": {
      "text/html": [
       "<dl class=dl-horizontal>\n",
       "\t<dt>age</dt>\n",
       "\t\t<dd>0</dd>\n",
       "\t<dt>sex</dt>\n",
       "\t\t<dd>0</dd>\n",
       "\t<dt>cp</dt>\n",
       "\t\t<dd>0</dd>\n",
       "\t<dt>trestbps</dt>\n",
       "\t\t<dd>0</dd>\n",
       "\t<dt>chol</dt>\n",
       "\t\t<dd>0</dd>\n",
       "\t<dt>fbs</dt>\n",
       "\t\t<dd>0</dd>\n",
       "\t<dt>restecg</dt>\n",
       "\t\t<dd>0</dd>\n",
       "\t<dt>thalach</dt>\n",
       "\t\t<dd>0</dd>\n",
       "\t<dt>exang</dt>\n",
       "\t\t<dd>0</dd>\n",
       "\t<dt>oldpeak</dt>\n",
       "\t\t<dd>0</dd>\n",
       "\t<dt>slope</dt>\n",
       "\t\t<dd>0</dd>\n",
       "\t<dt>ca</dt>\n",
       "\t\t<dd>0</dd>\n",
       "\t<dt>thal</dt>\n",
       "\t\t<dd>0</dd>\n",
       "\t<dt>class</dt>\n",
       "\t\t<dd>0</dd>\n",
       "</dl>\n"
      ],
      "text/latex": [
       "\\begin{description*}\n",
       "\\item[age] 0\n",
       "\\item[sex] 0\n",
       "\\item[cp] 0\n",
       "\\item[trestbps] 0\n",
       "\\item[chol] 0\n",
       "\\item[fbs] 0\n",
       "\\item[restecg] 0\n",
       "\\item[thalach] 0\n",
       "\\item[exang] 0\n",
       "\\item[oldpeak] 0\n",
       "\\item[slope] 0\n",
       "\\item[ca] 0\n",
       "\\item[thal] 0\n",
       "\\item[class] 0\n",
       "\\end{description*}\n"
      ],
      "text/markdown": [
       "age\n",
       ":   0sex\n",
       ":   0cp\n",
       ":   0trestbps\n",
       ":   0chol\n",
       ":   0fbs\n",
       ":   0restecg\n",
       ":   0thalach\n",
       ":   0exang\n",
       ":   0oldpeak\n",
       ":   0slope\n",
       ":   0ca\n",
       ":   0thal\n",
       ":   0class\n",
       ":   0\n",
       "\n"
      ],
      "text/plain": [
       "     age      sex       cp trestbps     chol      fbs  restecg  thalach \n",
       "       0        0        0        0        0        0        0        0 \n",
       "   exang  oldpeak    slope       ca     thal    class \n",
       "       0        0        0        0        0        0 "
      ]
     },
     "metadata": {},
     "output_type": "display_data"
    }
   ],
   "source": [
    "data <- na.omit(hd_data) \n",
    "colSums(is.na(data))"
   ]
  },
  {
   "cell_type": "code",
   "execution_count": 138,
   "id": "ec72fe3b",
   "metadata": {},
   "outputs": [
    {
     "data": {
      "image/png": "[encoded data removed]",
      "text/plain": [
       "Plot with title \"\""
      ]
     },
     "metadata": {},
     "output_type": "display_data"
    }
   ],
   "source": [
    "options(repr.plot.width =10, repr.plot.height =6)\n",
    "corr <- cor(data)\n",
    "corrplot(corr)"
   ]
  },
  {
   "cell_type": "code",
   "execution_count": 139,
   "id": "a0e0c560",
   "metadata": {},
   "outputs": [],
   "source": [
    "# Coverting the categorical data to factor\n",
    "data$sex <- as.factor(data$sex)\n",
    "data$class <- as.factor(data$class)\n",
    "data$cp <- as.factor(data$cp)\n",
    "data$fbs <- as.factor(data$fbs)\n",
    "data$exang <- as.factor(data$exang)\n",
    "data$slope <- as.factor(data$slope)\n",
    "data$thal <- as.factor(data$thal)"
   ]
  },
  {
   "cell_type": "code",
   "execution_count": 140,
   "id": "c0ac2500",
   "metadata": {},
   "outputs": [],
   "source": [
    "data2 <- data"
   ]
  },
  {
   "cell_type": "code",
   "execution_count": 141,
   "id": "7a797933",
   "metadata": {},
   "outputs": [],
   "source": [
    "# Give a better name to the factor values for the graphs\n",
    "levels(data$sex) <- c(\"Female\", \"Male\")\n",
    "levels(data$cp) <- c(\"Asymptomatic\", \"Atypical angina\", \"No angina\", \"Typical angina\")\n",
    "levels(data$exang) <- c(\"No\", \"Yes\")\n",
    "levels(data$slope) <- c(\"Descending\", \"Flat\", \"Ascending\")\n",
    "levels(data$thal) <- c(\"Fixed defect\", \"Normal flow\", \"Reversible defect\")\n",
    "levels(data$class) <- c(\"Yes\", \"No\")"
   ]
  },
  {
   "cell_type": "code",
   "execution_count": 142,
   "id": "b88be488",
   "metadata": {},
   "outputs": [],
   "source": [
    "# deleting variables that has low correlation\n",
    "data = subset(data, select = c(-fbs,-chol,-restecg))"
   ]
  },
  {
   "cell_type": "markdown",
   "id": "ba7dfbbd",
   "metadata": {},
   "source": [
    "## Exploratory Data Analysis"
   ]
  },
  {
   "cell_type": "code",
   "execution_count": 143,
   "id": "63271e85",
   "metadata": {},
   "outputs": [
    {
     "data": {
      "image/png": "[encoded data removed]",
      "text/plain": [
       "plot without title"
      ]
     },
     "metadata": {},
     "output_type": "display_data"
    }
   ],
   "source": [
    "options(repr.plot.width =6, repr.plot.height =4)\n",
    "\n",
    "ggplot(data, aes(x=data$class, fill=data$class)) + \n",
    "  geom_bar() +\n",
    "  xlab(\"Heart Disease\") +\n",
    "  ylab(\"Count\") +\n",
    "  ggtitle(\"Total Number of Presence or Non-Presence Class\") +\n",
    "  scale_fill_discrete(name = \"Heart Disease\", labels = c(\"Absence\", \"Presence\"))"
   ]
  },
  {
   "cell_type": "code",
   "execution_count": 144,
   "id": "5d71bab6",
   "metadata": {},
   "outputs": [
    {
     "data": {
      "image/png": "[encoded data removed]",
      "text/plain": [
       "plot without title"
      ]
     },
     "metadata": {},
     "output_type": "display_data"
    }
   ],
   "source": [
    "ggplot(data, aes(age, fill=class)) + \n",
    "  geom_density(alpha=0.5) +\n",
    "  labs(fill=\"Disease\", x=\"age\", y=\"Number of patients\")+\n",
    "ggtitle(\"Age Distribution\")"
   ]
  },
  {
   "cell_type": "code",
   "execution_count": 145,
   "id": "e3e35486",
   "metadata": {},
   "outputs": [
    {
     "data": {
      "image/png": "[encoded data removed]",
      "text/plain": [
       "plot without title"
      ]
     },
     "metadata": {},
     "output_type": "display_data"
    }
   ],
   "source": [
    "ggplot(data, aes(sex, fill=class)) + \n",
    "  geom_bar() +\n",
    "  labs(fill=\"Disease\", x=\"Sex\", y=\"Number of patients\") +\n",
    "ggtitle(\"Disease by Sex\")"
   ]
  },
  {
   "cell_type": "code",
   "execution_count": 146,
   "id": "2aae0162",
   "metadata": {},
   "outputs": [
    {
     "data": {
      "image/png": "[encoded data removed]",
      "text/plain": [
       "plot without title"
      ]
     },
     "metadata": {},
     "output_type": "display_data"
    }
   ],
   "source": [
    "ggplot(data, aes(cp, fill=class)) +\n",
    "  geom_bar() +\n",
    "  labs(fill=\"Disease\", x=\"Chest pain type\", y=\"Number of patients\") +\n",
    "ggtitle('Disease by Chest Pain Type')\n"
   ]
  },
  {
   "cell_type": "code",
   "execution_count": 147,
   "id": "287e569e",
   "metadata": {},
   "outputs": [
    {
     "data": {
      "image/png": "[encoded data removed]",
      "text/plain": [
       "plot without title"
      ]
     },
     "metadata": {},
     "output_type": "display_data"
    }
   ],
   "source": [
    "ggplot(data, aes(trestbps, fill=class)) +\n",
    "  geom_density(alpha=0.5) +\n",
    "  labs(fill=\"Disease\", x=\"Blood pressure (mm Hg)\", y=\"Number of patients\")+\n",
    "ggtitle('Disease by Resting Blood Pressure')"
   ]
  },
  {
   "cell_type": "code",
   "execution_count": 148,
   "id": "01dc0c72",
   "metadata": {},
   "outputs": [
    {
     "data": {
      "image/png": "[encoded data removed]",
      "text/plain": [
       "plot without title"
      ]
     },
     "metadata": {},
     "output_type": "display_data"
    }
   ],
   "source": [
    "ggplot(data, aes(thalach, fill=class)) +\n",
    "  geom_density(alpha=0.5) +\n",
    "  labs(fill=\"Disease\", x=\"Maximum heart rate during exercise\", y=\"Number of patients\")"
   ]
  },
  {
   "cell_type": "code",
   "execution_count": 149,
   "id": "6e3e5386",
   "metadata": {},
   "outputs": [
    {
     "data": {
      "image/png": "[encoded data removed]",
      "text/plain": [
       "plot without title"
      ]
     },
     "metadata": {},
     "output_type": "display_data"
    }
   ],
   "source": [
    "ggplot(data, aes(exang, fill=class)) +\n",
    "  geom_bar() +\n",
    "  labs(fill=\"Disease\", x=\"Presence of angina during exercise\", y=\"Number of patients\")"
   ]
  },
  {
   "cell_type": "code",
   "execution_count": 150,
   "id": "0f4e1440",
   "metadata": {},
   "outputs": [
    {
     "data": {
      "image/png": "[encoded data removed]",
      "text/plain": [
       "plot without title"
      ]
     },
     "metadata": {},
     "output_type": "display_data"
    }
   ],
   "source": [
    "ggplot(data, aes(oldpeak, fill=class)) +\n",
    "  geom_density(alpha=0.5) +\n",
    "  labs(fill=\"Disease\", x=\"Depression of the ST segment\", y=\"Number of patients\")"
   ]
  },
  {
   "cell_type": "code",
   "execution_count": 151,
   "id": "9540eae9",
   "metadata": {},
   "outputs": [
    {
     "data": {
      "image/png": "[encoded data removed]",
      "text/plain": [
       "plot without title"
      ]
     },
     "metadata": {},
     "output_type": "display_data"
    }
   ],
   "source": [
    "ggplot(data, aes(slope, fill=class)) +\n",
    "  geom_bar() +\n",
    "  labs(fill=\"Disease\", x=\"Slope of the ST segment\", y=\"Number of patients\")"
   ]
  },
  {
   "cell_type": "code",
   "execution_count": 152,
   "id": "e5cdd0f4",
   "metadata": {},
   "outputs": [
    {
     "data": {
      "image/png": "[encoded data removed]",
      "text/plain": [
       "plot without title"
      ]
     },
     "metadata": {},
     "output_type": "display_data"
    }
   ],
   "source": [
    "ggplot(data, aes(ca, fill=class)) +\n",
    "  geom_bar() +\n",
    "  labs(fill=\"Disease\", x=\"Number of main blood vessels coloured\", y=\"Number of patients\")"
   ]
  },
  {
   "cell_type": "markdown",
   "id": "23cdd68f",
   "metadata": {},
   "source": [
    "## Modeling"
   ]
  },
  {
   "cell_type": "code",
   "execution_count": 153,
   "id": "fa80aa02",
   "metadata": {},
   "outputs": [],
   "source": [
    "set.seed(8)\n",
    "training_indeces <- createDataPartition(data2$class, p = .7, list = FALSE)\n",
    "data2.train <- data2[ training_indeces,]\n",
    "data2.test  <- data2[-training_indeces,]\n",
    "\n",
    "# 10 fold Cross-validation\n",
    "fitControl <- trainControl(method=\"cv\", number=10)"
   ]
  },
  {
   "cell_type": "markdown",
   "id": "a775081e",
   "metadata": {},
   "source": [
    "## Preliminary Analysis"
   ]
  },
  {
   "cell_type": "code",
   "execution_count": 156,
   "id": "331c0660",
   "metadata": {},
   "outputs": [],
   "source": [
    "# Creating a logistic model\n",
    "logisticmodel <- glm(class~.,data = data2.train, family = \"binomial\")"
   ]
  },
  {
   "cell_type": "code",
   "execution_count": 157,
   "id": "8caf10b0",
   "metadata": {},
   "outputs": [
    {
     "data": {
      "text/plain": [
       "\n",
       "Call:\n",
       "glm(formula = class ~ ., family = \"binomial\", data = data2.train)\n",
       "\n",
       "Deviance Residuals: \n",
       "    Min       1Q   Median       3Q      Max  \n",
       "-2.5493  -0.4045  -0.1261   0.3120   2.4865  \n",
       "\n",
       "Coefficients:\n",
       "             Estimate Std. Error z value Pr(>|z|)    \n",
       "(Intercept) -6.320780   3.526248  -1.792   0.0731 .  \n",
       "age         -0.004788   0.030083  -0.159   0.8735    \n",
       "sex1         1.680477   0.680377   2.470   0.0135 *  \n",
       "cp2          0.734705   1.062651   0.691   0.4893    \n",
       "cp3         -0.213108   0.900986  -0.237   0.8130    \n",
       "cp4          1.896843   0.898473   2.111   0.0348 *  \n",
       "trestbps     0.031243   0.013966   2.237   0.0253 *  \n",
       "chol         0.001941   0.005062   0.383   0.7014    \n",
       "fbs1        -1.588618   0.839393  -1.893   0.0584 .  \n",
       "restecg      0.280165   0.241109   1.162   0.2452    \n",
       "thalach     -0.018414   0.014249  -1.292   0.1962    \n",
       "exang1       1.367701   0.567927   2.408   0.0160 *  \n",
       "oldpeak      0.374423   0.292422   1.280   0.2004    \n",
       "slope2       1.028468   0.609233   1.688   0.0914 .  \n",
       "slope3       0.490289   1.448651   0.338   0.7350    \n",
       "ca           1.284910   0.309543   4.151 3.31e-05 ***\n",
       "thal6       -1.882777   1.159911  -1.623   0.1045    \n",
       "thal7        0.981489   0.553636   1.773   0.0763 .  \n",
       "---\n",
       "Signif. codes:  0 '***' 0.001 '**' 0.01 '*' 0.05 '.' 0.1 ' ' 1\n",
       "\n",
       "(Dispersion parameter for binomial family taken to be 1)\n",
       "\n",
       "    Null deviance: 287.12  on 207  degrees of freedom\n",
       "Residual deviance: 128.94  on 190  degrees of freedom\n",
       "AIC: 164.94\n",
       "\n",
       "Number of Fisher Scoring iterations: 6\n"
      ]
     },
     "metadata": {},
     "output_type": "display_data"
    }
   ],
   "source": [
    "summary(logisticmodel)"
   ]
  },
  {
   "cell_type": "code",
   "execution_count": 158,
   "id": "53596a29",
   "metadata": {},
   "outputs": [
    {
     "data": {
      "text/plain": [
       "Generalized Linear Model \n",
       "\n",
       "208 samples\n",
       " 13 predictor\n",
       "  2 classes: '0', '1' \n",
       "\n",
       "No pre-processing\n",
       "Resampling: Cross-Validated (10 fold) \n",
       "Summary of sample sizes: 187, 187, 188, 186, 188, 187, ... \n",
       "Resampling results:\n",
       "\n",
       "  Accuracy  Kappa    \n",
       "  0.822316  0.6397655\n"
      ]
     },
     "metadata": {},
     "output_type": "display_data"
    }
   ],
   "source": [
    "set.seed(8)\n",
    "model.lr <- train(class ~ ., \n",
    "              data = data2.train,\n",
    "              method = \"glm\",\n",
    "              family=binomial(),\n",
    "              trControl = fitControl)\n",
    "model.lr"
   ]
  },
  {
   "cell_type": "code",
   "execution_count": 159,
   "id": "93552e52",
   "metadata": {},
   "outputs": [
    {
     "data": {
      "text/plain": [
       "Random Forest \n",
       "\n",
       "208 samples\n",
       " 13 predictor\n",
       "  2 classes: '0', '1' \n",
       "\n",
       "No pre-processing\n",
       "Resampling: Cross-Validated (10 fold) \n",
       "Summary of sample sizes: 187, 187, 188, 186, 188, 187, ... \n",
       "Resampling results across tuning parameters:\n",
       "\n",
       "  mtry  Accuracy   Kappa    \n",
       "   2    0.8130303  0.6198014\n",
       "   9    0.8327706  0.6623766\n",
       "  17    0.8229870  0.6414774\n",
       "\n",
       "Accuracy was used to select the optimal model using the largest value.\n",
       "The final value used for the model was mtry = 9."
      ]
     },
     "metadata": {},
     "output_type": "display_data"
    }
   ],
   "source": [
    "set.seed(8)\n",
    "model.rf <- train(class ~ ., \n",
    "              data = data2.train,\n",
    "              method = \"rf\",\n",
    "              trControl = fitControl)\n",
    "model.rf"
   ]
  },
  {
   "cell_type": "code",
   "execution_count": null,
   "id": "58868ead",
   "metadata": {},
   "outputs": [],
   "source": []
  }
 ],
 "metadata": {
  "kernelspec": {
   "display_name": "R",
   "language": "R",
   "name": "ir"
  },
  "language_info": {
   "codemirror_mode": "r",
   "file_extension": ".r",
   "mimetype": "text/x-r-source",
   "name": "R",
   "pygments_lexer": "r",
   "version": "3.6.3"
  }
 },
 "nbformat": 4,
 "nbformat_minor": 5
}
