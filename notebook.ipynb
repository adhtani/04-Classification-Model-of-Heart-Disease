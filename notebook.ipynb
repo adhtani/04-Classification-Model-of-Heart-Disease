{
 "cells": [
  {
   "cell_type": "markdown",
   "metadata": {
    "dc": {
     "key": "3"
    },
    "deletable": false,
    "editable": false,
    "run_control": {
     "frozen": true
    },
    "tags": [
     "context"
    ]
   },
   "source": [
    "## 1. Heart disease and potential risk factors\n",
    "<p>Millions of people develop some sort of heart disease every year and heart disease is the biggest killer of both men and women in the United States and around the world. Statistical analysis has identified many risk factors associated with heart disease such as age, blood pressure, total cholesterol, diabetes, hypertension, family history of heart disease, obesity, lack of physical exercise, etc. In this notebook, we're going to run statistical tests and regression models using the Cleveland heart disease dataset to assess one particular factor -- maximum heart rate one can achieve during exercise and how it is associated with a higher likelihood of getting heart disease.</p>\n",
    "<p><img src=\"https://assets.datacamp.com/production/project_445/img/run31.png\" height=\"300\" width=\"300\"></p>"
   ]
  },
  {
   "cell_type": "code",
   "execution_count": 3,
   "metadata": {
    "dc": {
     "key": "3"
    },
    "tags": [
     "sample_code"
    ]
   },
   "outputs": [
    {
     "data": {
      "text/html": [
       "<table>\n",
       "<thead><tr><th scope=col>age</th><th scope=col>sex</th><th scope=col>cp</th><th scope=col>trestbps</th><th scope=col>chol</th><th scope=col>fbs</th><th scope=col>restecg</th><th scope=col>thalach</th><th scope=col>exang</th><th scope=col>oldpeak</th><th scope=col>slope</th><th scope=col>ca</th><th scope=col>thal</th><th scope=col>class</th></tr></thead>\n",
       "<tbody>\n",
       "\t<tr><td>63 </td><td>1  </td><td>1  </td><td>145</td><td>233</td><td>1  </td><td>2  </td><td>150</td><td>0  </td><td>2.3</td><td>3  </td><td>0  </td><td>6  </td><td>0  </td></tr>\n",
       "\t<tr><td>67 </td><td>1  </td><td>4  </td><td>160</td><td>286</td><td>0  </td><td>2  </td><td>108</td><td>1  </td><td>1.5</td><td>2  </td><td>3  </td><td>3  </td><td>2  </td></tr>\n",
       "\t<tr><td>67 </td><td>1  </td><td>4  </td><td>120</td><td>229</td><td>0  </td><td>2  </td><td>129</td><td>1  </td><td>2.6</td><td>2  </td><td>2  </td><td>7  </td><td>1  </td></tr>\n",
       "\t<tr><td>37 </td><td>1  </td><td>3  </td><td>130</td><td>250</td><td>0  </td><td>0  </td><td>187</td><td>0  </td><td>3.5</td><td>3  </td><td>0  </td><td>3  </td><td>0  </td></tr>\n",
       "\t<tr><td>41 </td><td>0  </td><td>2  </td><td>130</td><td>204</td><td>0  </td><td>2  </td><td>172</td><td>0  </td><td>1.4</td><td>1  </td><td>0  </td><td>3  </td><td>0  </td></tr>\n",
       "</tbody>\n",
       "</table>\n"
      ],
      "text/latex": [
       "\\begin{tabular}{r|llllllllllllll}\n",
       " age & sex & cp & trestbps & chol & fbs & restecg & thalach & exang & oldpeak & slope & ca & thal & class\\\\\n",
       "\\hline\n",
       "\t 63  & 1   & 1   & 145 & 233 & 1   & 2   & 150 & 0   & 2.3 & 3   & 0   & 6   & 0  \\\\\n",
       "\t 67  & 1   & 4   & 160 & 286 & 0   & 2   & 108 & 1   & 1.5 & 2   & 3   & 3   & 2  \\\\\n",
       "\t 67  & 1   & 4   & 120 & 229 & 0   & 2   & 129 & 1   & 2.6 & 2   & 2   & 7   & 1  \\\\\n",
       "\t 37  & 1   & 3   & 130 & 250 & 0   & 0   & 187 & 0   & 3.5 & 3   & 0   & 3   & 0  \\\\\n",
       "\t 41  & 0   & 2   & 130 & 204 & 0   & 2   & 172 & 0   & 1.4 & 1   & 0   & 3   & 0  \\\\\n",
       "\\end{tabular}\n"
      ],
      "text/markdown": [
       "\n",
       "| age | sex | cp | trestbps | chol | fbs | restecg | thalach | exang | oldpeak | slope | ca | thal | class |\n",
       "|---|---|---|---|---|---|---|---|---|---|---|---|---|---|\n",
       "| 63  | 1   | 1   | 145 | 233 | 1   | 2   | 150 | 0   | 2.3 | 3   | 0   | 6   | 0   |\n",
       "| 67  | 1   | 4   | 160 | 286 | 0   | 2   | 108 | 1   | 1.5 | 2   | 3   | 3   | 2   |\n",
       "| 67  | 1   | 4   | 120 | 229 | 0   | 2   | 129 | 1   | 2.6 | 2   | 2   | 7   | 1   |\n",
       "| 37  | 1   | 3   | 130 | 250 | 0   | 0   | 187 | 0   | 3.5 | 3   | 0   | 3   | 0   |\n",
       "| 41  | 0   | 2   | 130 | 204 | 0   | 2   | 172 | 0   | 1.4 | 1   | 0   | 3   | 0   |\n",
       "\n"
      ],
      "text/plain": [
       "  age sex cp trestbps chol fbs restecg thalach exang oldpeak slope ca thal\n",
       "1 63  1   1  145      233  1   2       150     0     2.3     3     0  6   \n",
       "2 67  1   4  160      286  0   2       108     1     1.5     2     3  3   \n",
       "3 67  1   4  120      229  0   2       129     1     2.6     2     2  7   \n",
       "4 37  1   3  130      250  0   0       187     0     3.5     3     0  3   \n",
       "5 41  0   2  130      204  0   2       172     0     1.4     1     0  3   \n",
       "  class\n",
       "1 0    \n",
       "2 2    \n",
       "3 1    \n",
       "4 0    \n",
       "5 0    "
      ]
     },
     "metadata": {},
     "output_type": "display_data"
    }
   ],
   "source": [
    "#  Read datasets Cleveland_hd.csv into hd_data\n",
    "hd_data <- read.csv(\"datasets/Cleveland_hd.csv\")\n",
    "\n",
    "# take a look at the first 5 rows of hd_data\n",
    "head(hd_data, 5)"
   ]
  },
  {
   "cell_type": "markdown",
   "metadata": {
    "dc": {
     "key": "10"
    },
    "deletable": false,
    "editable": false,
    "run_control": {
     "frozen": true
    },
    "tags": [
     "context"
    ]
   },
   "source": [
    "## 2. Converting diagnosis class into outcome variable\n",
    "<p>We noticed that the outcome variable <code>class</code> has more than two levels. According to the codebook, any non-zero values can be coded as an \"event.\" Let's create a new variable called <code>hd</code> to represent a binary 1/0 outcome.</p>\n",
    "<p>There are a few other categorical/discrete variables in the dataset. Let's also convert sex into a 'factor' for next step analysis. Otherwise, R will treat this as continuous by default.</p>\n",
    "<p>The full data dictionary is also displayed here.</p>\n",
    "<p><img src=\"https://assets.datacamp.com/production/project_445/img/datadict.png\" height=\"500\" width=\"500\"></p>"
   ]
  },
  {
   "cell_type": "code",
   "execution_count": 4,
   "metadata": {
    "dc": {
     "key": "10"
    },
    "tags": [
     "sample_code"
    ]
   },
   "outputs": [],
   "source": [
    "# load the tidyverse package\n",
    "library(tidyverse)\n",
    "\n",
    "# Use the 'mutate' function from dplyr to recode our data\n",
    "hd_data %>% mutate(hd = ifelse(class > 0, 1, 0))-> hd_data\n",
    "\n",
    "# recode sex using mutate function and save as hd_data\n",
    "hd_data %>% mutate(sex = factor(sex, levels = 0:1, labels = c(\"Female\", \"Male\")))-> hd_data"
   ]
  },
  {
   "cell_type": "markdown",
   "metadata": {
    "dc": {
     "key": "17"
    },
    "deletable": false,
    "editable": false,
    "run_control": {
     "frozen": true
    },
    "tags": [
     "context"
    ]
   },
   "source": [
    "## 3. Identifying important clinical variables\n",
    "<p>Now, let's use statistical tests to see which predictors are related to heart disease. We can explore the associations for each variable in the dataset. Depending on the type of the data (i.e., continuous or categorical), we use t-test or chi-squared test to calculate the p-values.</p>\n",
    "<p>Recall, t-test is used to determine whether there is a significant difference between the means of two groups (e.g., is the mean age from group A different from the mean age from group B?). A chi-squared test for independence compares the equivalence of two proportions.</p>"
   ]
  },
  {
   "cell_type": "code",
   "execution_count": 5,
   "metadata": {
    "dc": {
     "key": "17"
    },
    "tags": [
     "sample_code"
    ]
   },
   "outputs": [
    {
     "name": "stdout",
     "output_type": "stream",
     "text": [
      "\n",
      "\tPearson's Chi-squared test with Yates' continuity correction\n",
      "\n",
      "data:  hd_data$sex and hd_data$hd\n",
      "X-squared = 22.043, df = 1, p-value = 2.667e-06\n",
      "\n",
      "\n",
      "\tWelch Two Sample t-test\n",
      "\n",
      "data:  hd_data$age by hd_data$hd\n",
      "t = -4.0303, df = 300.93, p-value = 7.061e-05\n",
      "alternative hypothesis: true difference in means is not equal to 0\n",
      "95 percent confidence interval:\n",
      " -6.013385 -2.067682\n",
      "sample estimates:\n",
      "mean in group 0 mean in group 1 \n",
      "       52.58537        56.62590 \n",
      "\n",
      "\n",
      "\tWelch Two Sample t-test\n",
      "\n",
      "data:  hd_data$thalach by hd_data$hd\n",
      "t = 7.8579, df = 272.27, p-value = 9.106e-14\n",
      "alternative hypothesis: true difference in means is not equal to 0\n",
      "95 percent confidence interval:\n",
      " 14.32900 23.90912\n",
      "sample estimates:\n",
      "mean in group 0 mean in group 1 \n",
      "        158.378         139.259 \n",
      "\n"
     ]
    }
   ],
   "source": [
    "# Does sex have an effect? Sex is a binary variable in this dataset,\n",
    "# so the appropriate test is chi-squared test\n",
    "hd_sex <- chisq.test(hd_data$sex, hd_data$hd)\n",
    "\n",
    "# Does age have an effect? Age is continuous, so we use t-test here\n",
    "hd_age <- t.test(hd_data$age ~ hd_data$hd)\n",
    "\n",
    "# What about thalach: maximum heart rate one can achieve during exercise?\n",
    "hd_heartrate <- t.test(hd_data$thalach ~ hd_data$hd)\n",
    "\n",
    "# Print the results to see if p<0.05.\n",
    "print(hd_sex)\n",
    "print(hd_age)\n",
    "print(hd_heartrate)"
   ]
  },
  {
   "cell_type": "markdown",
   "metadata": {
    "dc": {
     "key": "24"
    },
    "deletable": false,
    "editable": false,
    "run_control": {
     "frozen": true
    },
    "tags": [
     "context"
    ]
   },
   "source": [
    "## 4. Explore the associations graphically (i)\n",
    "<p>A good picture is worth a thousand words. In addition to p-values from statistical tests, we can plot the age, sex, and maximum heart rate distributions with respect to our outcome variable. This will give us a sense of both the direction and magnitude of the relationship.</p>\n",
    "<p>First, let's plot age using a boxplot since it is a continuous variable.</p>"
   ]
  },
  {
   "cell_type": "code",
   "execution_count": 6,
   "metadata": {
    "dc": {
     "key": "24"
    },
    "tags": [
     "sample_code"
    ]
   },
   "outputs": [
    {
     "data": {
      "image/png": "[encoded data removed]",
      "text/plain": [
       "plot without title"
      ]
     },
     "metadata": {},
     "output_type": "display_data"
    }
   ],
   "source": [
    "# Recode hd to be labelled\n",
    "hd_data %>% mutate(hd_labelled = ifelse(hd == 0, \"No disease\", \"Disease\")) -> hd_data\n",
    "\n",
    "# age vs hd\n",
    "ggplot(data = hd_data, aes(x = hd_labelled, y = age)) + geom_boxplot()"
   ]
  },
  {
   "cell_type": "markdown",
   "metadata": {
    "dc": {
     "key": "31"
    },
    "deletable": false,
    "editable": false,
    "run_control": {
     "frozen": true
    },
    "tags": [
     "context"
    ]
   },
   "source": [
    "## 5. Explore the associations graphically (ii)\n",
    "<p>Next, let's plot sex using a barplot since it is a binary variable in this dataset.</p>"
   ]
  },
  {
   "cell_type": "code",
   "execution_count": 0,
   "metadata": {
    "collapsed": true,
    "dc": {
     "key": "31"
    },
    "tags": [
     "sample_code"
    ]
   },
   "outputs": [],
   "source": [
    "# sex vs hd\n",
    "ggplot(data = hd_data, aes(x = hd_labelled, fill = sex)) + geom_bar(position = \"fill\") + ylab(\"Sex %\")"
   ]
  },
  {
   "cell_type": "markdown",
   "metadata": {
    "dc": {
     "key": "38"
    },
    "deletable": false,
    "editable": false,
    "run_control": {
     "frozen": true
    },
    "tags": [
     "context"
    ]
   },
   "source": [
    "## 6. Explore the associations graphically (iii)\n",
    "<p>And finally, let's plot thalach using a boxplot since it is a continuous variable.</p>"
   ]
  },
  {
   "cell_type": "code",
   "execution_count": 0,
   "metadata": {
    "collapsed": true,
    "dc": {
     "key": "38"
    },
    "tags": [
     "sample_code"
    ]
   },
   "outputs": [],
   "source": [
    "# max heart rate vs hd\n",
    "ggplot(data = hd_data,....) + ...."
   ]
  },
  {
   "cell_type": "markdown",
   "metadata": {
    "dc": {
     "key": "45"
    },
    "deletable": false,
    "editable": false,
    "run_control": {
     "frozen": true
    },
    "tags": [
     "context"
    ]
   },
   "source": [
    "## 7. Putting all three variables in one model\n",
    "<p>The plots and the statistical tests both confirmed that all the three variables are highly significantly associated with our outcome (p&lt;0.001 for all tests). </p>\n",
    "<p>In general, we want to use multiple logistic regression when we have one binary outcome variable and two or more predicting variables. The binary variable is the dependent (Y) variable; we are studying the effect that the independent (X) variables have on the probability of obtaining a particular value of the dependent variable. For example, we might want to know the effect that maximum heart rate, age, and sex have on the probability that a person will have a heart disease in the next year. The model will also tell us what the remaining effect of maximum heart rate is after we control or adjust for the effects of the other two effectors. </p>\n",
    "<p>The <code>glm()</code> command is designed to perform generalized linear models (regressions) on binary outcome data, count data, probability data, proportion data, and many other data types. In our case, the outcome is binary following a binomial distribution.</p>"
   ]
  },
  {
   "cell_type": "code",
   "execution_count": 0,
   "metadata": {
    "collapsed": true,
    "dc": {
     "key": "45"
    },
    "tags": [
     "sample_code"
    ]
   },
   "outputs": [],
   "source": [
    "# use glm function from base R and specify the family argument as binomial\n",
    "model <- ....(data = hd_data, ...., ....)\n",
    "\n",
    "# extract the model summary\n",
    "summary(model)"
   ]
  },
  {
   "cell_type": "markdown",
   "metadata": {
    "dc": {
     "key": "52"
    },
    "deletable": false,
    "editable": false,
    "run_control": {
     "frozen": true
    },
    "tags": [
     "context"
    ]
   },
   "source": [
    "## 8. Extracting useful information from the model output\n",
    "<p>It's common practice in medical research to report Odds Ratio (OR) to quantify how strongly the presence or absence of property A is associated with the presence or absence of the outcome. When the OR is greater than 1, we say A is positively associated with outcome B (increases the Odds of having B). Otherwise, we say A is negatively associated with B (decreases the Odds of having B).</p>\n",
    "<p>The raw glm coefficient table (the 'estimate' column in the printed output) in R represents the log(Odds Ratios) of the outcome. Therefore, we need to convert the values to the original OR scale and calculate the corresponding 95% Confidence Interval (CI) of the estimated Odds Ratios when reporting results from a logistic regression. </p>"
   ]
  },
  {
   "cell_type": "code",
   "execution_count": 0,
   "metadata": {
    "collapsed": true,
    "dc": {
     "key": "52"
    },
    "tags": [
     "sample_code"
    ]
   },
   "outputs": [],
   "source": [
    "# load the broom package\n",
    "# .... YOUR CODE FOR TASK 8 ....\n",
    "\n",
    "# tidy up the coefficient table\n",
    "tidy_m <- ....\n",
    "tidy_m\n",
    "\n",
    "# calculate OR\n",
    "tidy_m$OR <- ....\n",
    "\n",
    "# calculate 95% CI and save as lower CI and upper CI\n",
    "tidy_m$lower_CI <- exp(tidy_m$estimate - 1.96 * tidy_m$std.error)\n",
    "tidy_m$upper_CI <- ....\n",
    "\n",
    "# display the updated coefficient table\n",
    "tidy_m"
   ]
  },
  {
   "cell_type": "markdown",
   "metadata": {
    "dc": {
     "key": "59"
    },
    "deletable": false,
    "editable": false,
    "run_control": {
     "frozen": true
    },
    "tags": [
     "context"
    ]
   },
   "source": [
    "## 9. Predicted probabilities from our model\n",
    "<p>So far, we have built a logistic regression model and examined the model coefficients/ORs. We may wonder how can we use this model we developed to predict a person's likelihood of having heart disease given his/her age, sex, and maximum heart rate. Furthermore, we'd like to translate the predicted probability into a decision rule for clinical use by defining a cutoff value on the probability scale. In practice, when an individual comes in for a health check-up, the doctor would like to know the predicted probability of heart disease, for specific values of the predictors: a 45-year-old female with a max heart rate of 150. To do that, we create a data frame called newdata, in which we include the desired values for our prediction.</p>"
   ]
  },
  {
   "cell_type": "code",
   "execution_count": 0,
   "metadata": {
    "collapsed": true,
    "dc": {
     "key": "59"
    },
    "tags": [
     "sample_code"
    ]
   },
   "outputs": [],
   "source": [
    "# get the predicted probability in our dataset using the predict() function\n",
    "pred_prob <- ....(....,...., type = \"response\")\n",
    "\n",
    "# create a decision rule using probability 0.5 as cutoff and save the predicted decision into the main data frame\n",
    "hd_data$.... <- ....\n",
    "\n",
    "# create a newdata data frame to save a new case information\n",
    "newdata <- data.frame(age = 45, sex = \"Female\", thalach = 150)\n",
    "\n",
    "# predict probability for this new case and print out the predicted value\n",
    "p_new <- ....(....,...., type = \"response\")\n",
    "p_new"
   ]
  },
  {
   "cell_type": "markdown",
   "metadata": {
    "dc": {
     "key": "66"
    },
    "deletable": false,
    "editable": false,
    "run_control": {
     "frozen": true
    },
    "tags": [
     "context"
    ]
   },
   "source": [
    "## 10. Model performance metrics\n",
    "<p>Are the predictions accurate? How well does the model fit our data? We are going to use some common metrics to evaluate the model performance. The most straightforward one is Accuracy, which is the proportion of the total number of predictions that were correct. On the other hand, we can calculate the classification error rate using 1- accuracy. However, accuracy can be misleading when the response is rare (i.e., imbalanced response). Another popular metric, Area Under the ROC curve (AUC), has the advantage that it's independent of the change in the proportion of responders. AUC ranges from 0 to 1. The closer it gets to 1 the better the model performance. Lastly, a confusion matrix is an N X N matrix, where N is the level of outcome. For the problem at hand, we have N=2, and hence we get a 2 X 2 matrix. It cross-tabulates the predicted outcome levels against the true outcome levels.</p>\n",
    "<p>After these metrics are calculated, we'll see (from the logistic regression OR table) that older age, being male and having a lower max heart rate are all risk factors for heart disease. We can also apply our model to predict the probability of having heart disease. For a 45 years old female who has a max heart rate of 150, our model generated a heart disease probability of 0.177 indicating low risk of heart disease. Although our model has an overall accuracy of 0.71, there are cases that were misclassified as shown in the confusion matrix. One way to improve our current model is to include other relevant predictors from the dataset into our model, but that's a task for another day!</p>"
   ]
  },
  {
   "cell_type": "code",
   "execution_count": 0,
   "metadata": {
    "collapsed": true,
    "dc": {
     "key": "66"
    },
    "tags": [
     "sample_code"
    ]
   },
   "outputs": [],
   "source": [
    "# load Metrics package\n",
    "library(Metrics)\n",
    "\n",
    "# calculate auc, accuracy, clasification error\n",
    "auc <- ....\n",
    "accuracy <- ....\n",
    "classification_error <- ....\n",
    "\n",
    "# print out the metrics on to screen\n",
    "print(paste(\"AUC=\", auc))\n",
    "print(paste(\"Accuracy=\", accuracy))\n",
    "print(paste(\"Classification Error=\", classification_error))\n",
    "\n",
    "# confusion matrix\n",
    "table(....,...., dnn=c(....,....)) # confusion matrix"
   ]
  }
 ],
 "metadata": {
  "kernelspec": {
   "display_name": "R",
   "language": "R",
   "name": "ir"
  },
  "language_info": {
   "codemirror_mode": "r",
   "file_extension": ".r",
   "mimetype": "text/x-r-source",
   "name": "R",
   "pygments_lexer": "r",
   "version": "3.6.3"
  }
 },
 "nbformat": 4,
 "nbformat_minor": 2
}
